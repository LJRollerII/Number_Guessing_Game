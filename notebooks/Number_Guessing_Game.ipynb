{
 "cells": [
  {
   "cell_type": "code",
   "execution_count": null,
   "id": "fd42cc21",
   "metadata": {},
   "outputs": [],
   "source": [
    "import random"
   ]
  },
  {
   "cell_type": "markdown",
   "id": "ec063e79",
   "metadata": {},
   "source": [
    "Important Notes"
   ]
  },
  {
   "cell_type": "code",
   "execution_count": null,
   "id": "3109ab87",
   "metadata": {},
   "outputs": [],
   "source": [
    "#Remeber in python, for 10 to be the highest number you must set 11 as the upperbound number.\n",
    "#An alternative method is print(random.randrange(11)). This would include 0 as one of the numbers randomized\n",
    "#print(random.randrange(0,11))"
   ]
  },
  {
   "cell_type": "code",
   "execution_count": null,
   "id": "4936e90b",
   "metadata": {},
   "outputs": [],
   "source": [
    "#An alternative way to do the formula below is to use random_number = random.randint(-10,11). If you do use this method, 11 will be included in the randomized numbers.\n",
    "#random.randint(11) is another alternative method as well. The range would be from 0-11.\n",
    "#random_number = random.randrange(0, top_of_range)\n",
    "#print(random_number)"
   ]
  },
  {
   "cell_type": "code",
   "execution_count": null,
   "id": "0b784161",
   "metadata": {},
   "outputs": [],
   "source": [
    "#We will use break to stop the loop when the user enters the correct number. Otherwise this will be an infinite loop."
   ]
  },
  {
   "cell_type": "code",
   "execution_count": null,
   "id": "9b79c7b4",
   "metadata": {},
   "outputs": [],
   "source": [
    "#elif will allow us to check for multiple expressions.\n",
    "#It's pythons way of saying \"if the previous conditions were not true, then try this condition\".\n",
    "#Using elif can get rid of nested if statements and make your code much cleaner."
   ]
  },
  {
   "cell_type": "markdown",
   "id": "b29cff6c",
   "metadata": {},
   "source": [
    "Now let's write this code!"
   ]
  },
  {
   "cell_type": "code",
   "execution_count": null,
   "id": "42dd4e60",
   "metadata": {},
   "outputs": [],
   "source": [
    "top_of_range = input(\"Type a number: \")\n",
    "\n",
    "#We will use int to make sure that the number the user enters is an integer not a string.\n",
    "if top_of_range.isdigit():\n",
    "    top_of_range = int(top_of_range)\n",
    "    \n",
    "    if top_of_range <= 0:\n",
    "        print('Please type a number larger than 0 next time')\n",
    "        quit()\n",
    "    \n",
    "else:\n",
    "    print('Please type a number next time')\n",
    "    quit()  \n",
    "    \n",
    "\n",
    "random_number = random.randint(0, top_of_range)  \n",
    "guesses = 0\n",
    "\n",
    "while True:\n",
    "    guesses += 1\n",
    "    user_guess = input('Make a guess: ')\n",
    "    if user_guess.isdigit():\n",
    "        user_guess = int(user_guess)\n",
    "        \n",
    "    else:\n",
    "        print('Please type a number next time')\n",
    "        continue\n",
    "            \n",
    "    if user_guess == random_number:\n",
    "        print(\"Congrats! You got it!\")\n",
    "        break\n",
    "    elif user_guess > random_number:\n",
    "            print(\"You were above the number!\")\n",
    "    else:\n",
    "            print(\"You were below the number!\")       \n",
    "                \n",
    "print(\"You got it in\", guesses, \"guesses\")"
   ]
  }
 ],
 "metadata": {
  "kernelspec": {
   "display_name": "Python 3 (ipykernel)",
   "language": "python",
   "name": "python3"
  },
  "language_info": {
   "codemirror_mode": {
    "name": "ipython",
    "version": 3
   },
   "file_extension": ".py",
   "mimetype": "text/x-python",
   "name": "python",
   "nbconvert_exporter": "python",
   "pygments_lexer": "ipython3",
   "version": "3.9.7"
  }
 },
 "nbformat": 4,
 "nbformat_minor": 5
}
