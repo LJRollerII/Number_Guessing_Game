{
 "cells": [
  {
   "cell_type": "code",
   "execution_count": 1,
   "id": "adbbc90b",
   "metadata": {},
   "outputs": [],
   "source": [
    "import random"
   ]
  },
  {
   "cell_type": "code",
   "execution_count": null,
   "id": "e169317b",
   "metadata": {},
   "outputs": [],
   "source": [
    "#Remeber in python, for 10 to be the highest number you must set 11 as the upperbound number.\n",
    "#An alternative method is print(random.randrange(11)). This would include 0 as one of the numbers randomized\n",
    "#print(random.randrange(0,11))"
   ]
  },
  {
   "cell_type": "code",
   "execution_count": null,
   "id": "7ac093af",
   "metadata": {},
   "outputs": [],
   "source": [
    "top_of_range = input(\"Type a number: \")\n",
    "\n",
    "#We will use int to make sure that the number the user enters is an integer not a string.\n",
    "if top_of_range.isdigit():\n",
    "    top_of_range = int(top_of_range)\n",
    "    \n",
    "    if top_of_range <= 0:\n",
    "    print('Please type a number larger than 0 next time')\n",
    "    quit()\n",
    "    \n",
    "else:\n",
    "    print('Please type a number next time')\n",
    "    quit()  "
   ]
  },
  {
   "cell_type": "code",
   "execution_count": null,
   "id": "84c2fdcd",
   "metadata": {},
   "outputs": [],
   "source": [
    "#An alternative way to do the formula below is to use random_number = random.randint(-10,11). If you do use this method, 11 will be included in the randomized numbers.\n",
    "#random.randint(11) is another alternative method as well. The range would be from 0-11.\n",
    "#random_number = random.randrange(0, top_of_range)\n",
    "#print(random_number)"
   ]
  },
  {
   "cell_type": "code",
   "execution_count": null,
   "id": "62ff5216",
   "metadata": {},
   "outputs": [],
   "source": [
    "while True:\n",
    "    user_guess = input('Make a guess: ')\n",
    "    if user_guess.isdigit():\n",
    "        user_guess = int(user_guess)\n",
    "        \n",
    "        if top_of_range <= 0:\n",
    "        print('Please type a number larger than 0 next time')\n",
    "        quit()\n",
    "        \n",
    "        else:\n",
    "            print('Please type a number next time')\n",
    "            continue\n",
    "            \n",
    "        if user_guess == random_number:\n",
    "            print(\"Congrats! You got it!\")\n",
    "            break\n",
    "            else:(\"You got it wrong!\")\n",
    "        \n",
    "   \n",
    "            "
   ]
  },
  {
   "cell_type": "markdown",
   "id": "2217df1e",
   "metadata": {},
   "source": [
    "Let's do this in one line"
   ]
  },
  {
   "cell_type": "code",
   "execution_count": 2,
   "id": "6675c78f",
   "metadata": {},
   "outputs": [
    {
     "name": "stdout",
     "output_type": "stream",
     "text": [
      "Type a number: 2\n",
      "Make a guess: 3\n",
      "You were above the number!\n",
      "Make a guess: 1\n",
      "You were above the number!\n",
      "Make a guess: 2\n",
      "You were above the number!\n",
      "Make a guess: 4\n",
      "You were above the number!\n",
      "Make a guess: 5\n",
      "You were above the number!\n",
      "Make a guess: 6\n",
      "You were above the number!\n",
      "Make a guess: 7\n",
      "You were above the number!\n",
      "Make a guess: 8\n",
      "You were above the number!\n",
      "Make a guess: 9\n",
      "You were above the number!\n",
      "Make a guess: 0\n",
      "Congrats! You got it!\n",
      "You got it in 10 guesses\n"
     ]
    }
   ],
   "source": [
    "top_of_range = input(\"Type a number: \")\n",
    "\n",
    "#We will use int to make sure that the number the user enters is an integer not a string.\n",
    "if top_of_range.isdigit():\n",
    "    top_of_range = int(top_of_range)\n",
    "    \n",
    "    if top_of_range <= 0:\n",
    "        print('Please type a number larger than 0 next time')\n",
    "        quit()\n",
    "    \n",
    "else:\n",
    "    print('Please type a number next time')\n",
    "    quit()  \n",
    "    \n",
    "\n",
    "random_number = random.randint(0, top_of_range)  \n",
    "guesses = 0\n",
    "\n",
    "while True:\n",
    "    guesses += 1\n",
    "    user_guess = input('Make a guess: ')\n",
    "    if user_guess.isdigit():\n",
    "        user_guess = int(user_guess)\n",
    "        \n",
    "    else:\n",
    "        print('Please type a number next time')\n",
    "        continue\n",
    "            \n",
    "    if user_guess == random_number:\n",
    "        print(\"Congrats! You got it!\")\n",
    "        break\n",
    "    elif user_guess > random_number:\n",
    "            print(\"You were above the number!\")\n",
    "    else:\n",
    "            print(\"You were below the number!\")       \n",
    "                \n",
    "print(\"You got it in\", guesses, \"guesses\")"
   ]
  },
  {
   "cell_type": "code",
   "execution_count": null,
   "id": "4d4d4aa2",
   "metadata": {},
   "outputs": [],
   "source": []
  }
 ],
 "metadata": {
  "kernelspec": {
   "display_name": "Python 3 (ipykernel)",
   "language": "python",
   "name": "python3"
  },
  "language_info": {
   "codemirror_mode": {
    "name": "ipython",
    "version": 3
   },
   "file_extension": ".py",
   "mimetype": "text/x-python",
   "name": "python",
   "nbconvert_exporter": "python",
   "pygments_lexer": "ipython3",
   "version": "3.9.7"
  }
 },
 "nbformat": 4,
 "nbformat_minor": 5
}
